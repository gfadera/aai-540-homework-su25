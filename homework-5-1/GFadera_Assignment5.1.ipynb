{
 "cells": [
  {
   "cell_type": "markdown",
   "id": "4164ebcc-53e7-4a37-a950-c83288d489ad",
   "metadata": {},
   "source": [
    "## Assignment 5.1: ML System Observability\n",
    "##### Geoffrey Fadera\n",
    "##### AAI-540 Summer 2025\n",
    "##### June 10th 2025"
   ]
  },
  {
   "cell_type": "markdown",
   "id": "dbaf5eec-a045-44de-b604-e60a71c8a29b",
   "metadata": {},
   "source": [
    "### Imports"
   ]
  },
  {
   "cell_type": "code",
   "execution_count": 1,
   "id": "701afac8-d0f1-4e39-8b51-78c751a8c9bd",
   "metadata": {
    "execution": {
     "iopub.execute_input": "2025-06-10T07:00:25.334902Z",
     "iopub.status.busy": "2025-06-10T07:00:25.334322Z",
     "iopub.status.idle": "2025-06-10T07:00:25.342343Z",
     "shell.execute_reply": "2025-06-10T07:00:25.341484Z",
     "shell.execute_reply.started": "2025-06-10T07:00:25.334865Z"
    }
   },
   "outputs": [],
   "source": [
    "import copy\n",
    "import json\n",
    "import random\n",
    "import time\n",
    "import pandas as pd\n",
    "\n",
    "from datetime import datetime, timedelta\n",
    "\n",
    "from sagemaker import get_execution_role, image_uris, Session\n",
    "from sagemaker.clarify import (\n",
    "    BiasConfig,\n",
    "    DataConfig,\n",
    "    ModelConfig,\n",
    "    ModelPredictedLabelConfig,\n",
    "    SHAPConfig,\n",
    ")\n",
    "from sagemaker.model import Model\n",
    "from sagemaker.model_monitor import (\n",
    "    BiasAnalysisConfig,\n",
    "    CronExpressionGenerator,\n",
    "    DataCaptureConfig,\n",
    "    EndpointInput,\n",
    "    ExplainabilityAnalysisConfig,\n",
    "    ModelBiasMonitor,\n",
    "    ModelExplainabilityMonitor,\n",
    ")\n",
    "from sagemaker.s3 import S3Downloader, S3Uploader"
   ]
  },
  {
   "cell_type": "markdown",
   "id": "cfda1a96-34e0-4102-b95c-ba575aec5ff0",
   "metadata": {},
   "source": [
    "### Access Configurations for AWS Services"
   ]
  },
  {
   "cell_type": "code",
   "execution_count": 2,
   "id": "4b28b9a1-4fdd-4e14-9314-ed1f757137fb",
   "metadata": {
    "execution": {
     "iopub.execute_input": "2025-06-10T07:11:54.632356Z",
     "iopub.status.busy": "2025-06-10T07:11:54.632081Z",
     "iopub.status.idle": "2025-06-10T07:11:55.707437Z",
     "shell.execute_reply": "2025-06-10T07:11:55.706773Z",
     "shell.execute_reply.started": "2025-06-10T07:11:54.632334Z"
    }
   },
   "outputs": [
    {
     "name": "stdout",
     "output_type": "stream",
     "text": [
      "RoleArn: arn:aws:iam::324183265896:role/service-role/AmazonSageMaker-ExecutionRole-20250604T045982\n",
      "AWS region: us-east-1\n",
      "Demo Bucket: sagemaker-us-east-1-324183265896\n",
      "S3 key: s3://sagemaker-us-east-1-324183265896/sagemaker/DEMO-ClarifyModelMonitor-20200901\n",
      "Capture path: s3://sagemaker-us-east-1-324183265896/sagemaker/DEMO-ClarifyModelMonitor-20200901/datacapture\n",
      "Ground truth path: s3://sagemaker-us-east-1-324183265896/sagemaker/DEMO-ClarifyModelMonitor-20200901/ground_truth_data/2025-06-10-07-11-55\n",
      "Report path: s3://sagemaker-us-east-1-324183265896/sagemaker/DEMO-ClarifyModelMonitor-20200901/reports\n",
      "Baseline results uri: s3://sagemaker-us-east-1-324183265896/sagemaker/DEMO-ClarifyModelMonitor-20200901/baselining\n"
     ]
    }
   ],
   "source": [
    "role = get_execution_role()\n",
    "print(f\"RoleArn: {role}\")\n",
    "\n",
    "sagemaker_session = Session()\n",
    "sagemaker_client = sagemaker_session.sagemaker_client\n",
    "sagemaker_runtime_client = sagemaker_session.sagemaker_runtime_client\n",
    "\n",
    "region = sagemaker_session.boto_region_name\n",
    "print(f\"AWS region: {region}\")\n",
    "\n",
    "# A different bucket can be used, but make sure the role for this notebook has\n",
    "# the s3:PutObject permissions. This is the bucket into which the data is captured\n",
    "bucket = Session().default_bucket()\n",
    "print(f\"Demo Bucket: {bucket}\")\n",
    "prefix = \"sagemaker/DEMO-ClarifyModelMonitor-20200901\"\n",
    "s3_key = f\"s3://{bucket}/{prefix}\"\n",
    "print(f\"S3 key: {s3_key}\")\n",
    "\n",
    "s3_capture_upload_path = f\"{s3_key}/datacapture\"\n",
    "ground_truth_upload_path = f\"{s3_key}/ground_truth_data/{datetime.now():%Y-%m-%d-%H-%M-%S}\"\n",
    "s3_report_path = f\"{s3_key}/reports\"\n",
    "\n",
    "print(f\"Capture path: {s3_capture_upload_path}\")\n",
    "print(f\"Ground truth path: {ground_truth_upload_path}\")\n",
    "print(f\"Report path: {s3_report_path}\")\n",
    "\n",
    "baseline_results_uri = f\"{s3_key}/baselining\"\n",
    "print(f\"Baseline results uri: {baseline_results_uri}\")\n",
    "\n",
    "endpoint_instance_count = 1\n",
    "endpoint_instance_type = \"ml.m5.xlarge\"\n",
    "schedule_expression = CronExpressionGenerator.hourly()"
   ]
  },
  {
   "cell_type": "markdown",
   "id": "d9a1273e-c5a6-4b2a-94b9-0568b1238b1d",
   "metadata": {},
   "source": [
    "### Models and Datasets"
   ]
  },
  {
   "cell_type": "code",
   "execution_count": 3,
   "id": "12132678-a2f3-4551-aaf8-283c52f8a04c",
   "metadata": {
    "execution": {
     "iopub.execute_input": "2025-06-10T07:24:21.162238Z",
     "iopub.status.busy": "2025-06-10T07:24:21.161808Z",
     "iopub.status.idle": "2025-06-10T07:24:21.167151Z",
     "shell.execute_reply": "2025-06-10T07:24:21.166452Z",
     "shell.execute_reply.started": "2025-06-10T07:24:21.162203Z"
    }
   },
   "outputs": [],
   "source": [
    "#model_file = \"model/xgb-churn-prediction-model.tar.gz\"\n",
    "test_file = \"test_data/upload-test-file.txt\"\n",
    "test_dataset = \"test_data/test-dataset-input-cols.csv\"\n",
    "validation_dataset = \"test_data/validation-dataset-with-header.csv\"\n",
    "dataset_type = \"text/csv\"\n",
    "\n",
    "with open(validation_dataset) as f:\n",
    "    headers_line = f.readline().rstrip()\n",
    "all_headers = headers_line.split(\",\")\n",
    "label_header = all_headers[0]"
   ]
  },
  {
   "cell_type": "code",
   "execution_count": 4,
   "id": "4bd1eb63-c81d-476e-9665-d3347900bdba",
   "metadata": {
    "execution": {
     "iopub.execute_input": "2025-06-10T07:24:48.200150Z",
     "iopub.status.busy": "2025-06-10T07:24:48.199649Z",
     "iopub.status.idle": "2025-06-10T07:24:48.443450Z",
     "shell.execute_reply": "2025-06-10T07:24:48.442674Z",
     "shell.execute_reply.started": "2025-06-10T07:24:48.200125Z"
    }
   },
   "outputs": [
    {
     "name": "stdout",
     "output_type": "stream",
     "text": [
      "Success! We are all set to proceed.\n"
     ]
    }
   ],
   "source": [
    "# Upload a test file\n",
    "S3Uploader.upload(test_file, f\"s3://{bucket}/test_upload\")\n",
    "print(\"Success! We are all set to proceed.\")"
   ]
  },
  {
   "cell_type": "markdown",
   "id": "c0723999-60b2-4545-9220-c37ba50ecf84",
   "metadata": {},
   "source": [
    "## PART A: Capturing real-time inference data from Amazon SageMaker endpoints"
   ]
  },
  {
   "cell_type": "markdown",
   "id": "546de415-e5fd-4a9f-86d8-0fc0ad132aba",
   "metadata": {},
   "source": [
    "### Retrieve the url of the pre-trained model uploaded to Amazon S3 in Lab 5.1"
   ]
  },
  {
   "cell_type": "code",
   "execution_count": 6,
   "id": "8e571253-a299-49aa-ba79-a940dc45af97",
   "metadata": {
    "execution": {
     "iopub.execute_input": "2025-06-10T07:31:40.652542Z",
     "iopub.status.busy": "2025-06-10T07:31:40.652274Z",
     "iopub.status.idle": "2025-06-10T07:31:40.656889Z",
     "shell.execute_reply": "2025-06-10T07:31:40.656252Z",
     "shell.execute_reply.started": "2025-06-10T07:31:40.652521Z"
    }
   },
   "outputs": [
    {
     "name": "stdout",
     "output_type": "stream",
     "text": [
      "s3://sagemaker-us-east-1-324183265896/sagemaker/Churn-ModelQualityMonitor-20201201/xgb-churn-prediction-model.tar.gz\n"
     ]
    }
   ],
   "source": [
    "%store -r lab5_model_url\n",
    "model_url = lab5_model_url\n",
    "print(model_url)"
   ]
  },
  {
   "cell_type": "markdown",
   "id": "cb96cab9-94ea-488d-a249-feedb11a2034",
   "metadata": {},
   "source": [
    "### Deploy the model to Amazon SageMaker"
   ]
  },
  {
   "cell_type": "code",
   "execution_count": 7,
   "id": "d05fd162-145c-443a-8724-b10f892a7b67",
   "metadata": {
    "execution": {
     "iopub.execute_input": "2025-06-10T07:34:39.957519Z",
     "iopub.status.busy": "2025-06-10T07:34:39.957157Z",
     "iopub.status.idle": "2025-06-10T07:34:39.962115Z",
     "shell.execute_reply": "2025-06-10T07:34:39.961418Z",
     "shell.execute_reply.started": "2025-06-10T07:34:39.957494Z"
    }
   },
   "outputs": [
    {
     "name": "stdout",
     "output_type": "stream",
     "text": [
      "Model name:  DEMO-xgb-churn-pred-model-monitor-2025-06-10-0734\n",
      "Endpoint name:  DEMO-xgb-churn-model-monitor-2025-06-10-0734\n"
     ]
    },
    {
     "name": "stderr",
     "output_type": "stream",
     "text": [
      "/tmp/ipykernel_16553/3119141737.py:1: DeprecationWarning: datetime.datetime.utcnow() is deprecated and scheduled for removal in a future version. Use timezone-aware objects to represent datetimes in UTC: datetime.datetime.now(datetime.UTC).\n",
      "  model_name = f\"DEMO-xgb-churn-pred-model-monitor-{datetime.utcnow():%Y-%m-%d-%H%M}\"\n",
      "/tmp/ipykernel_16553/3119141737.py:3: DeprecationWarning: datetime.datetime.utcnow() is deprecated and scheduled for removal in a future version. Use timezone-aware objects to represent datetimes in UTC: datetime.datetime.now(datetime.UTC).\n",
      "  endpoint_name = f\"DEMO-xgb-churn-model-monitor-{datetime.utcnow():%Y-%m-%d-%H%M}\"\n"
     ]
    }
   ],
   "source": [
    "model_name = f\"DEMO-xgb-churn-pred-model-monitor-{datetime.utcnow():%Y-%m-%d-%H%M}\"\n",
    "print(\"Model name: \", model_name)\n",
    "endpoint_name = f\"DEMO-xgb-churn-model-monitor-{datetime.utcnow():%Y-%m-%d-%H%M}\"\n",
    "print(\"Endpoint name: \", endpoint_name)"
   ]
  },
  {
   "cell_type": "code",
   "execution_count": 8,
   "id": "54a7d8b1-5d8f-43e6-948b-63538ac5961c",
   "metadata": {
    "execution": {
     "iopub.execute_input": "2025-06-10T07:37:48.169460Z",
     "iopub.status.busy": "2025-06-10T07:37:48.168951Z",
     "iopub.status.idle": "2025-06-10T07:40:50.507940Z",
     "shell.execute_reply": "2025-06-10T07:40:50.507212Z",
     "shell.execute_reply.started": "2025-06-10T07:37:48.169425Z"
    }
   },
   "outputs": [
    {
     "name": "stdout",
     "output_type": "stream",
     "text": [
      "XGBoost image uri: 683313688378.dkr.ecr.us-east-1.amazonaws.com/sagemaker-xgboost:0.90-1-cpu-py3\n",
      "Deploying model DEMO-xgb-churn-pred-model-monitor-2025-06-10-0734 to endpoint DEMO-xgb-churn-model-monitor-2025-06-10-0734\n",
      "-----!"
     ]
    }
   ],
   "source": [
    "image_uri = image_uris.retrieve(\"xgboost\", region, \"0.90-1\")\n",
    "print(f\"XGBoost image uri: {image_uri}\")\n",
    "model = Model(\n",
    "    role=role,\n",
    "    name=model_name,\n",
    "    image_uri=image_uri,\n",
    "    model_data=model_url,\n",
    "    sagemaker_session=sagemaker_session,\n",
    ")\n",
    "\n",
    "data_capture_config = DataCaptureConfig(\n",
    "    enable_capture=True,\n",
    "    sampling_percentage=100,\n",
    "    destination_s3_uri=s3_capture_upload_path,\n",
    ")\n",
    "print(f\"Deploying model {model_name} to endpoint {endpoint_name}\")\n",
    "model.deploy(\n",
    "    initial_instance_count=endpoint_instance_count,\n",
    "    instance_type=endpoint_instance_type,\n",
    "    endpoint_name=endpoint_name,\n",
    "    data_capture_config=data_capture_config,\n",
    ")"
   ]
  },
  {
   "cell_type": "markdown",
   "id": "45db675f-4e66-4d60-8d20-e755bf4fb6cf",
   "metadata": {},
   "source": [
    "### Send Test Data to Deployed Endpoint"
   ]
  },
  {
   "cell_type": "code",
   "execution_count": 9,
   "id": "5820f626-d257-4281-a3fb-f788e0c3488e",
   "metadata": {
    "execution": {
     "iopub.execute_input": "2025-06-10T07:52:23.703686Z",
     "iopub.status.busy": "2025-06-10T07:52:23.703113Z",
     "iopub.status.idle": "2025-06-10T07:52:23.710677Z",
     "shell.execute_reply": "2025-06-10T07:52:23.710098Z",
     "shell.execute_reply.started": "2025-06-10T07:52:23.703657Z"
    }
   },
   "outputs": [
    {
     "data": {
      "text/plain": [
       "'test_data/test-dataset-input-cols.csv'"
      ]
     },
     "execution_count": 9,
     "metadata": {},
     "output_type": "execute_result"
    }
   ],
   "source": [
    "test_dataset"
   ]
  },
  {
   "cell_type": "code",
   "execution_count": 10,
   "id": "42f9e585-27ac-44fb-ae8e-3642e9118f1f",
   "metadata": {
    "execution": {
     "iopub.execute_input": "2025-06-10T07:54:18.246489Z",
     "iopub.status.busy": "2025-06-10T07:54:18.246016Z",
     "iopub.status.idle": "2025-06-10T07:55:20.122121Z",
     "shell.execute_reply": "2025-06-10T07:55:20.120983Z",
     "shell.execute_reply.started": "2025-06-10T07:54:18.246451Z"
    }
   },
   "outputs": [
    {
     "name": "stdout",
     "output_type": "stream",
     "text": [
      "Sending test traffic to the endpoint DEMO-xgb-churn-model-monitor-2025-06-10-0734. \n",
      "Please wait........................................................................................................................\n",
      "Done!\n"
     ]
    }
   ],
   "source": [
    "# In Lab 5.1, there was a limit in the number of samples used for baselining\n",
    "print(f\"Sending test traffic to the endpoint {endpoint_name}. \\nPlease wait\", end=\"\")\n",
    "test_dataset_size = 0  # record the number of rows in data we're sending for inference\n",
    "with open(test_dataset, \"r\") as f:\n",
    "    for row in f:\n",
    "        if test_dataset_size < 120:\n",
    "            payload = row.rstrip(\"\\n\")\n",
    "            response = sagemaker_runtime_client.invoke_endpoint(\n",
    "                EndpointName=endpoint_name,\n",
    "                Body=payload,\n",
    "                ContentType=dataset_type,\n",
    "            )\n",
    "            prediction = response[\"Body\"].read()\n",
    "            print(\".\", end=\"\", flush=True)\n",
    "            time.sleep(0.5)\n",
    "        test_dataset_size += 1\n",
    "\n",
    "print()\n",
    "print(\"Done!\")"
   ]
  },
  {
   "cell_type": "code",
   "execution_count": 11,
   "id": "37d5e170-1d10-424a-85e3-bf305e8ff5af",
   "metadata": {
    "execution": {
     "iopub.execute_input": "2025-06-10T07:56:50.783918Z",
     "iopub.status.busy": "2025-06-10T07:56:50.783226Z",
     "iopub.status.idle": "2025-06-10T07:56:50.787884Z",
     "shell.execute_reply": "2025-06-10T07:56:50.787370Z",
     "shell.execute_reply.started": "2025-06-10T07:56:50.783885Z"
    }
   },
   "outputs": [
    {
     "data": {
      "text/plain": [
       "334"
      ]
     },
     "execution_count": 11,
     "metadata": {},
     "output_type": "execute_result"
    }
   ],
   "source": [
    "test_dataset_size"
   ]
  },
  {
   "cell_type": "markdown",
   "id": "256038ee-cad2-4fd1-a0dd-8bc7077f95ea",
   "metadata": {},
   "source": [
    "### View captured data"
   ]
  },
  {
   "cell_type": "code",
   "execution_count": 12,
   "id": "8857b0f7-5b9a-42dd-843a-92f980d9ffe3",
   "metadata": {
    "execution": {
     "iopub.execute_input": "2025-06-10T08:04:03.610130Z",
     "iopub.status.busy": "2025-06-10T08:04:03.609873Z",
     "iopub.status.idle": "2025-06-10T08:04:03.885000Z",
     "shell.execute_reply": "2025-06-10T08:04:03.884257Z",
     "shell.execute_reply.started": "2025-06-10T08:04:03.610110Z"
    }
   },
   "outputs": [
    {
     "name": "stdout",
     "output_type": "stream",
     "text": [
      "Waiting 30 seconds for captures to show up\n",
      "Found Capture Files:\n",
      "s3://sagemaker-us-east-1-324183265896/sagemaker/DEMO-ClarifyModelMonitor-20200901/datacapture/DEMO-xgb-churn-model-monitor-2025-06-10-0734/AllTraffic/2025/06/10/07/54-18-353-f300e498-c6be-4fcf-86c8-d19a83241e73.jsonl\n",
      " s3://sagemaker-us-east-1-324183265896/sagemaker/DEMO-ClarifyModelMonitor-20200901/datacapture/DEMO-xgb-churn-model-monitor-2025-06-10-0734/AllTraffic/2025/06/10/07/55-18-587-04520543-3c6c-40ca-a752-24a385b5a7b7.jsonl\n"
     ]
    }
   ],
   "source": [
    "print(\"Waiting 30 seconds for captures to show up\", end=\"\")\n",
    "for _ in range(30):\n",
    "    capture_files = sorted(S3Downloader.list(f\"{s3_capture_upload_path}/{endpoint_name}\"))\n",
    "    if capture_files:\n",
    "        break\n",
    "    print(\".\", end=\"\", flush=True)\n",
    "    time.sleep(1)\n",
    "print()\n",
    "print(\"Found Capture Files:\")\n",
    "print(\"\\n \".join(capture_files[-5:]))"
   ]
  },
  {
   "cell_type": "code",
   "execution_count": 13,
   "id": "76726985-5643-4b68-9b10-78cbb0d10952",
   "metadata": {
    "execution": {
     "iopub.execute_input": "2025-06-10T08:05:01.819771Z",
     "iopub.status.busy": "2025-06-10T08:05:01.819324Z",
     "iopub.status.idle": "2025-06-10T08:05:02.597756Z",
     "shell.execute_reply": "2025-06-10T08:05:02.594883Z",
     "shell.execute_reply.started": "2025-06-10T08:05:01.819735Z"
    }
   },
   "outputs": [
    {
     "name": "stdout",
     "output_type": "stream",
     "text": [
      "{\"captureData\":{\"endpointInput\":{\"observedContentType\":\"text/csv\",\"mode\":\"INPUT\",\"data\":\"93,0,176.1,103,199.7,130,263.9,96,8.5,6,2,0,0,0,0,0,0,0,0,0,0,0,0,0,0,0,0,0,0,0,0,0,0,0,0,0,0,0,0,0,0,0,0,0,0,0,0,0,0,0,0,0,1,0,0,0,0,0,0,0,0,0,0,1,0,1,0,1,0\",\"encoding\":\"CSV\"},\"endpointOutput\":{\"observedContentType\":\"text/csv; charset=utf-8\",\"mode\":\"OUTPUT\",\"data\":\"0.007474285550415516\",\"encoding\":\"CSV\"}},\"eventMetadata\":{\"eventId\":\"315ebf5f-1f54-4d29-804e-4145e9974217\",\"inferenceTime\":\"2025-06-10T07:55:19Z\"},\"eventVersion\":\"0\"}\n"
     ]
    }
   ],
   "source": [
    "# view the content of a single capture file. Take a quick peek at the first few lines in the captured file.\n",
    "capture_file = S3Downloader.read_file(capture_files[-1]).split(\"\\n\")[-10:-1]\n",
    "print(capture_file[-1])"
   ]
  },
  {
   "cell_type": "code",
   "execution_count": 14,
   "id": "acee00bd-fd69-4e2f-8b12-9dcde04f61bd",
   "metadata": {
    "execution": {
     "iopub.execute_input": "2025-06-10T08:05:50.310736Z",
     "iopub.status.busy": "2025-06-10T08:05:50.310378Z",
     "iopub.status.idle": "2025-06-10T08:05:50.314777Z",
     "shell.execute_reply": "2025-06-10T08:05:50.314163Z",
     "shell.execute_reply.started": "2025-06-10T08:05:50.310710Z"
    }
   },
   "outputs": [
    {
     "name": "stdout",
     "output_type": "stream",
     "text": [
      "{\n",
      "  \"captureData\": {\n",
      "    \"endpointInput\": {\n",
      "      \"observedContentType\": \"text/csv\",\n",
      "      \"mode\": \"INPUT\",\n",
      "      \"data\": \"93,0,176.1,103,199.7,130,263.9,96,8.5,6,2,0,0,0,0,0,0,0,0,0,0,0,0,0,0,0,0,0,0,0,0,0,0,0,0,0,0,0,0,0,0,0,0,0,0,0,0,0,0,0,0,0,1,0,0,0,0,0,0,0,0,0,0,1,0,1,0,1,0\",\n",
      "      \"encoding\": \"CSV\"\n",
      "    },\n",
      "    \"endpointOutput\": {\n",
      "      \"observedContentType\": \"text/csv; charset=utf-8\",\n",
      "      \"mode\": \"OUTPUT\",\n",
      "      \"data\": \"0.007474285550415516\",\n",
      "      \"encoding\": \"CSV\"\n",
      "    }\n",
      "  },\n",
      "  \"eventMetadata\": {\n",
      "    \"eventId\": \"315ebf5f-1f54-4d29-804e-4145e9974217\",\n",
      "    \"inferenceTime\": \"2025-06-10T07:55:19Z\"\n",
      "  },\n",
      "  \"eventVersion\": \"0\"\n",
      "}\n"
     ]
    }
   ],
   "source": [
    "# view in json format\n",
    "print(json.dumps(json.loads(capture_file[-1]), indent=2))"
   ]
  },
  {
   "cell_type": "markdown",
   "id": "ca9cf267-233d-4f9a-b02c-368fb1a1da12",
   "metadata": {},
   "source": [
    "## PART B: Model Bias Monitor (this could have been added to the end of Lab 5.1)\n",
    "### Configure Model Bias Monitor using Sagemaker Clarify Configuration Modules for Explainability"
   ]
  },
  {
   "cell_type": "code",
   "execution_count": 19,
   "id": "32a984ce-9793-40d6-adaa-7c9d8c217670",
   "metadata": {
    "execution": {
     "iopub.execute_input": "2025-06-10T08:57:30.816820Z",
     "iopub.status.busy": "2025-06-10T08:57:30.816292Z",
     "iopub.status.idle": "2025-06-10T08:57:30.851980Z",
     "shell.execute_reply": "2025-06-10T08:57:30.851175Z",
     "shell.execute_reply.started": "2025-06-10T08:57:30.816789Z"
    }
   },
   "outputs": [],
   "source": [
    "# initialize a Sagemaker's Model Bias Monitor object\n",
    "model_bias_monitor = ModelBiasMonitor(\n",
    "    role=role,\n",
    "    sagemaker_session=sagemaker_session,\n",
    "    max_runtime_in_seconds=1800,\n",
    ")"
   ]
  },
  {
   "cell_type": "code",
   "execution_count": 20,
   "id": "718356bf-2c87-4535-b46b-e418a438069b",
   "metadata": {
    "execution": {
     "iopub.execute_input": "2025-06-10T08:57:31.382161Z",
     "iopub.status.busy": "2025-06-10T08:57:31.381632Z",
     "iopub.status.idle": "2025-06-10T08:57:31.386268Z",
     "shell.execute_reply": "2025-06-10T08:57:31.385524Z",
     "shell.execute_reply.started": "2025-06-10T08:57:31.382132Z"
    }
   },
   "outputs": [],
   "source": [
    "# Configure the bias monitor using Sagemaker's Clarify Class Objects\n",
    "\n",
    "# upload path for baselining results\n",
    "model_bias_baselining_job_result_uri = f\"{baseline_results_uri}/model_bias\" \n",
    "# this could have been added to the Lab5.1 bucket under the same predictor but different monitor folder\n",
    "\n",
    "# Include column header labels for explainability\n",
    "model_bias_data_config = DataConfig(\n",
    "    s3_data_input_path=validation_dataset,\n",
    "    s3_output_path=model_bias_baselining_job_result_uri,\n",
    "    label=label_header,\n",
    "    headers=all_headers,\n",
    "    dataset_type=dataset_type,\n",
    ")\n",
    "\n",
    "# Configure Bias # what feature to monitor bias from\n",
    "model_bias_config = BiasConfig(\n",
    "    label_values_or_threshold=[1],\n",
    "    facet_name=\"Account Length\",\n",
    "    facet_values_or_threshold=[100],\n",
    ")\n",
    "\n",
    "# prediction probability threshold: same churn_cutoff rate as in Lab 5.1\n",
    "model_predicted_label_config = ModelPredictedLabelConfig(\n",
    "    probability_threshold=0.8,\n",
    ")\n",
    "\n",
    "# inference model configurations encapsulated in Clarify class container\n",
    "model_config = ModelConfig(\n",
    "    model_name=model_name,\n",
    "    instance_count=endpoint_instance_count,\n",
    "    instance_type=endpoint_instance_type,\n",
    "    content_type=dataset_type,\n",
    "    accept_type=dataset_type,\n",
    ")\n"
   ]
  },
  {
   "cell_type": "markdown",
   "id": "0537a020-22f0-443e-9fc1-90e97b113071",
   "metadata": {},
   "source": [
    "### Execute the Baselining Job"
   ]
  },
  {
   "cell_type": "code",
   "execution_count": 21,
   "id": "09192406-48b4-4936-84d4-d52f1fdb0277",
   "metadata": {
    "execution": {
     "iopub.execute_input": "2025-06-10T08:58:00.595135Z",
     "iopub.status.busy": "2025-06-10T08:58:00.594762Z",
     "iopub.status.idle": "2025-06-10T08:58:01.362529Z",
     "shell.execute_reply": "2025-06-10T08:58:01.361519Z",
     "shell.execute_reply.started": "2025-06-10T08:58:00.595110Z"
    }
   },
   "outputs": [
    {
     "name": "stderr",
     "output_type": "stream",
     "text": [
      "INFO:sagemaker:Creating processing-job with name baseline-suggestion-job-2025-06-10-08-58-00-618\n"
     ]
    },
    {
     "name": "stdout",
     "output_type": "stream",
     "text": [
      "ModelBiasMonitor baselining job: baseline-suggestion-job-2025-06-10-08-58-00-618\n"
     ]
    }
   ],
   "source": [
    "model_bias_monitor.suggest_baseline(\n",
    "    model_config=model_config,\n",
    "    data_config=model_bias_data_config,\n",
    "    bias_config=model_bias_config,\n",
    "    model_predicted_label_config=model_predicted_label_config,\n",
    ")\n",
    "print(f\"ModelBiasMonitor baselining job: {model_bias_monitor.latest_baselining_job_name}\")"
   ]
  },
  {
   "cell_type": "code",
   "execution_count": 22,
   "id": "8a64c65a-ded5-474a-beaf-b147d128937a",
   "metadata": {
    "execution": {
     "iopub.execute_input": "2025-06-10T08:59:53.368466Z",
     "iopub.status.busy": "2025-06-10T08:59:53.368199Z",
     "iopub.status.idle": "2025-06-10T09:08:07.861641Z",
     "shell.execute_reply": "2025-06-10T09:08:07.860794Z",
     "shell.execute_reply.started": "2025-06-10T08:59:53.368446Z"
    }
   },
   "outputs": [
    {
     "name": "stdout",
     "output_type": "stream",
     "text": [
      ".................................................................................................!\n",
      "ModelBiasMonitor suggested constraints: s3://sagemaker-us-east-1-324183265896/sagemaker/DEMO-ClarifyModelMonitor-20200901/baselining/model_bias/analysis.json\n",
      "{\n",
      "    \"version\": \"1.0\",\n",
      "    \"post_training_bias_metrics\": {\n",
      "        \"label\": \"Churn\",\n",
      "        \"facets\": {\n",
      "            \"Account Length\": [\n",
      "                {\n",
      "                    \"value_or_threshold\": \"(100, 225]\",\n",
      "                    \"metrics\": [\n",
      "                        {\n",
      "                            \"name\": \"AD\",\n",
      "                            \"description\": \"Accuracy Difference (AD)\",\n",
      "                            \"value\": 0.03416521605801226\n",
      "                        },\n",
      "                        {\n",
      "                            \"name\": \"CDDPL\",\n",
      "                            \"description\": \"Conditional Demographic Disparity in Predicted Labels (CDDPL)\",\n",
      "                            \"value\": null,\n",
      "                            \"error\": \"Group variable is empty or not provided\"\n",
      "                        },\n",
      "                        {\n",
      "                            \"name\": \"DAR\",\n",
      "                            \"description\": \"Difference in Acceptance Rates (DAR)\",\n",
      "                            \"value\": 0.0\n",
      "                        },\n",
      "                        {\n",
      "                            \"name\": \"DCA\",\n",
      "                            \"description\": \"Difference in Conditional Acceptance (DCA)\",\n",
      "                            \"value\": -0.4137931034482758\n",
      "                        },\n",
      "                        {\n",
      "                            \"name\": \"DCR\",\n",
      "                            \"description\": \"Difference in Conditional Rejection (DCR)\",\n",
      "                            \"value\": -0.03722943722943728\n",
      "                        },\n",
      "                        {\n",
      "                            \"name\": \"DI\",\n",
      "                            \"description\": \"Disparate Impact (DI)\",\n",
      "                            \"value\": 0.9762611275964392\n",
      "                        },\n",
      "                        {\n",
      "                            \"name\": \"DPPL\",\n",
      "                            \"description\": \"Difference in Positive Proportions in Predicted Labels (DPPL)\",\n",
      "                            \"value\": 0.0020924841936269395\n",
      "                        },\n",
      "                        {\n",
      "                            \"name\": \"DRR\",\n",
      "                            \"description\": \"Difference in Rejection Rates (DRR)\",\n",
      "                            \"value\": -0.03722943722943728\n",
      "                        },\n",
      "                        {\n",
      "                            \"name\": \"FT\",\n",
      "                            \"description\": \"Flip Test (FT)\",\n",
      "                            \"value\": 0.04154302670623145\n",
      "                        },\n",
      "                        {\n",
      "                            \"name\": \"GE\",\n",
      "                            \"description\": \"Generalized Entropy (GE)\",\n",
      "                            \"value\": 0.04234527687296418\n",
      "                        },\n",
      "                        {\n",
      "                            \"name\": \"RD\",\n",
      "                            \"description\": \"Recall Difference (RD)\",\n",
      "                            \"value\": 0.1164268986283038\n",
      "                        },\n",
      "                        {\n",
      "                            \"name\": \"SD\",\n",
      "                            \"description\": \"Specificity Difference (SD)\",\n",
      "                            \"value\": 0.0\n",
      "                        },\n",
      "                        {\n",
      "                            \"name\": \"TE\",\n",
      "                            \"description\": \"Treatment Equality (TE)\",\n",
      "                            \"value\": 0.0\n",
      "                        }\n",
      "                    ]\n",
      "                }\n",
      "            ]\n",
      "        },\n",
      "        \"label_value_or_threshold\": \"1\"\n",
      "    },\n",
      "    \"pre_training_bias_metrics\": {\n",
      "        \"label\": \"Churn\",\n",
      "        \"facets\": {\n",
      "            \"Account Length\": [\n",
      "                {\n",
      "                    \"value_or_threshold\": \"(100, 225]\",\n",
      "                    \"metrics\": [\n",
      "                        {\n",
      "                            \"name\": \"CDDL\",\n",
      "                            \"description\": \"Conditional Demographic Disparity in Labels (CDDL)\",\n",
      "                            \"value\": null,\n",
      "                            \"error\": \"Group variable is empty or not provided\"\n",
      "                        },\n",
      "                        {\n",
      "                            \"name\": \"CI\",\n",
      "                            \"description\": \"Class Imbalance (CI)\",\n",
      "                            \"value\": -0.012012012012012012\n",
      "                        },\n",
      "                        {\n",
      "                            \"name\": \"DPL\",\n",
      "                            \"description\": \"Difference in Positive Proportions in Labels (DPL)\",\n",
      "                            \"value\": -0.03207273186438539\n",
      "                        },\n",
      "                        {\n",
      "                            \"name\": \"JS\",\n",
      "                            \"description\": \"Jensen-Shannon Divergence (JS)\",\n",
      "                            \"value\": 0.0009346452720882569\n",
      "                        },\n",
      "                        {\n",
      "                            \"name\": \"KL\",\n",
      "                            \"description\": \"Kullback-Liebler Divergence (KL)\",\n",
      "                            \"value\": 0.003645914387951369\n",
      "                        },\n",
      "                        {\n",
      "                            \"name\": \"KS\",\n",
      "                            \"description\": \"Kolmogorov-Smirnov Distance (KS)\",\n",
      "                            \"value\": 0.03207273186438542\n",
      "                        },\n",
      "                        {\n",
      "                            \"name\": \"LP\",\n",
      "                            \"description\": \"L-p Norm (LP)\",\n",
      "                            \"value\": 0.04535769238496956\n",
      "                        },\n",
      "                        {\n",
      "                            \"name\": \"TVD\",\n",
      "                            \"description\": \"Total Variation Distance (TVD)\",\n",
      "                            \"value\": 0.032072731864385404\n",
      "                        }\n",
      "                    ]\n",
      "                }\n",
      "            ]\n",
      "        },\n",
      "        \"label_value_or_threshold\": \"1\"\n",
      "    }\n",
      "}\n"
     ]
    }
   ],
   "source": [
    "model_bias_monitor.latest_baselining_job.wait(logs=False)\n",
    "model_bias_constraints = model_bias_monitor.suggested_constraints()\n",
    "print()\n",
    "print(f\"ModelBiasMonitor suggested constraints: {model_bias_constraints.file_s3_uri}\")\n",
    "print(S3Downloader.read_file(model_bias_constraints.file_s3_uri))"
   ]
  },
  {
   "cell_type": "markdown",
   "id": "7ae36f49-e0c9-420e-acb1-7978d7611fb0",
   "metadata": {},
   "source": [
    "### Add Monitoring Schedule to the baseline bias monitor"
   ]
  },
  {
   "cell_type": "code",
   "execution_count": 23,
   "id": "08b07068-6474-427c-babd-a264c11a8646",
   "metadata": {
    "execution": {
     "iopub.execute_input": "2025-06-10T09:24:36.903448Z",
     "iopub.status.busy": "2025-06-10T09:24:36.903086Z",
     "iopub.status.idle": "2025-06-10T09:24:37.852717Z",
     "shell.execute_reply": "2025-06-10T09:24:37.852071Z",
     "shell.execute_reply.started": "2025-06-10T09:24:36.903423Z"
    }
   },
   "outputs": [
    {
     "name": "stderr",
     "output_type": "stream",
     "text": [
      "INFO:sagemaker.model_monitor.clarify_model_monitoring:Uploading analysis config to {s3_uri}.\n",
      "INFO:sagemaker.model_monitor.model_monitoring:Creating Monitoring Schedule with name: monitoring-schedule-2025-06-10-09-24-36-905\n"
     ]
    },
    {
     "name": "stdout",
     "output_type": "stream",
     "text": [
      "Model bias monitoring schedule: monitoring-schedule-2025-06-10-09-24-36-905\n"
     ]
    }
   ],
   "source": [
    "model_bias_analysis_config = None\n",
    "if not model_bias_monitor.latest_baselining_job:\n",
    "    model_bias_analysis_config = BiasAnalysisConfig(\n",
    "        model_bias_config,\n",
    "        headers=all_headers,\n",
    "        label=label_header,\n",
    "    )\n",
    "model_bias_monitor.create_monitoring_schedule(\n",
    "    analysis_config=model_bias_analysis_config,\n",
    "    output_s3_uri=s3_report_path,\n",
    "    endpoint_input=EndpointInput(\n",
    "        endpoint_name=endpoint_name,\n",
    "        destination=\"/opt/ml/processing/input/endpoint\",\n",
    "        start_time_offset=\"-PT1H\",\n",
    "        end_time_offset=\"-PT0H\",\n",
    "        probability_threshold_attribute=0.8,\n",
    "    ),\n",
    "    ground_truth_input=ground_truth_upload_path,\n",
    "    schedule_cron_expression=schedule_expression,\n",
    ")\n",
    "print(f\"Model bias monitoring schedule: {model_bias_monitor.monitoring_schedule_name}\")"
   ]
  },
  {
   "cell_type": "markdown",
   "id": "4c0c61bb-7a50-4619-8959-39b0e97a44b6",
   "metadata": {},
   "source": [
    "### Make sure there's constant \"ground truth data\""
   ]
  },
  {
   "cell_type": "code",
   "execution_count": 27,
   "id": "1f08382f-e20a-4962-9739-997d58459f79",
   "metadata": {
    "execution": {
     "iopub.execute_input": "2025-06-10T09:30:59.417495Z",
     "iopub.status.busy": "2025-06-10T09:30:59.417108Z",
     "iopub.status.idle": "2025-06-10T09:30:59.423824Z",
     "shell.execute_reply": "2025-06-10T09:30:59.423019Z",
     "shell.execute_reply.started": "2025-06-10T09:30:59.417468Z"
    }
   },
   "outputs": [],
   "source": [
    "import threading\n",
    "\n",
    "\n",
    "class WorkerThread(threading.Thread):\n",
    "    def __init__(self, do_run, *args, **kwargs):\n",
    "        super(WorkerThread, self).__init__(*args, **kwargs)\n",
    "        self.__do_run = do_run\n",
    "        self.__terminate_event = threading.Event()\n",
    "\n",
    "    def terminate(self):\n",
    "        self.__terminate_event.set()\n",
    "\n",
    "    def run(self):\n",
    "        while not self.__terminate_event.is_set():\n",
    "            self.__do_run(self.__terminate_event)"
   ]
  },
  {
   "cell_type": "code",
   "execution_count": 28,
   "id": "27657b41-635c-44e6-85a0-e3e9b29776e3",
   "metadata": {
    "execution": {
     "iopub.execute_input": "2025-06-10T09:31:10.850880Z",
     "iopub.status.busy": "2025-06-10T09:31:10.850632Z",
     "iopub.status.idle": "2025-06-10T09:31:10.862213Z",
     "shell.execute_reply": "2025-06-10T09:31:10.859620Z",
     "shell.execute_reply.started": "2025-06-10T09:31:10.850861Z"
    }
   },
   "outputs": [],
   "source": [
    "def invoke_endpoint(terminate_event):\n",
    "    with open(test_dataset, \"r\") as f:\n",
    "        i = 0\n",
    "        for row in f:\n",
    "            payload = row.rstrip(\"\\n\")\n",
    "            response = sagemaker_runtime_client.invoke_endpoint(\n",
    "                EndpointName=endpoint_name,\n",
    "                ContentType=\"text/csv\",\n",
    "                Body=payload,\n",
    "                InferenceId=str(i),  # unique ID per row\n",
    "            )\n",
    "            i += 1\n",
    "            response[\"Body\"].read()\n",
    "            time.sleep(1)\n",
    "            if terminate_event.is_set():\n",
    "                break\n",
    "\n",
    "\n",
    "# Keep invoking the endpoint with test data\n",
    "invoke_endpoint_thread = WorkerThread(do_run=invoke_endpoint)\n",
    "invoke_endpoint_thread.start()"
   ]
  },
  {
   "cell_type": "code",
   "execution_count": 29,
   "id": "d6812e8f-9ffc-428b-823d-0f05c600bbe2",
   "metadata": {
    "execution": {
     "iopub.execute_input": "2025-06-10T09:31:16.218556Z",
     "iopub.status.busy": "2025-06-10T09:31:16.217843Z",
     "iopub.status.idle": "2025-06-10T09:31:16.223187Z",
     "shell.execute_reply": "2025-06-10T09:31:16.222525Z",
     "shell.execute_reply.started": "2025-06-10T09:31:16.218527Z"
    }
   },
   "outputs": [],
   "source": [
    "# Use Threading to generate artificial feature data and feature labels\n",
    "\n",
    "def ground_truth_with_id(inference_id):\n",
    "    random.seed(inference_id)  # to get consistent results\n",
    "    rand = random.random()\n",
    "    # format required by the merge container\n",
    "    return {\n",
    "        \"groundTruthData\": {\n",
    "            \"data\": \"1\" if rand < 0.7 else \"0\",  # randomly generate positive labels 70% of the time\n",
    "            \"encoding\": \"CSV\",\n",
    "        },\n",
    "        \"eventMetadata\": {\n",
    "            \"eventId\": str(inference_id),\n",
    "        },\n",
    "        \"eventVersion\": \"0\",\n",
    "    }\n",
    "\n",
    "\n",
    "def upload_ground_truth(upload_time):\n",
    "    records = [ground_truth_with_id(i) for i in range(test_dataset_size)]\n",
    "    fake_records = [json.dumps(r) for r in records]\n",
    "    data_to_upload = \"\\n\".join(fake_records)\n",
    "    target_s3_uri = f\"{ground_truth_upload_path}/{upload_time:%Y/%m/%d/%H/%M%S}.jsonl\"\n",
    "    print(f\"Uploading {len(fake_records)} records to\", target_s3_uri)\n",
    "    S3Uploader.upload_string_as_file_body(data_to_upload, target_s3_uri)"
   ]
  },
  {
   "cell_type": "code",
   "execution_count": 30,
   "id": "25f7fb96-e479-4c34-be0a-c18da6106a00",
   "metadata": {
    "execution": {
     "iopub.execute_input": "2025-06-10T09:31:26.220832Z",
     "iopub.status.busy": "2025-06-10T09:31:26.220437Z",
     "iopub.status.idle": "2025-06-10T09:31:26.900153Z",
     "shell.execute_reply": "2025-06-10T09:31:26.899423Z",
     "shell.execute_reply.started": "2025-06-10T09:31:26.220807Z"
    }
   },
   "outputs": [
    {
     "name": "stderr",
     "output_type": "stream",
     "text": [
      "/tmp/ipykernel_16553/1956821817.py:2: DeprecationWarning: datetime.datetime.utcnow() is deprecated and scheduled for removal in a future version. Use timezone-aware objects to represent datetimes in UTC: datetime.datetime.now(datetime.UTC).\n",
      "  upload_ground_truth(datetime.utcnow() - timedelta(hours=1))\n"
     ]
    },
    {
     "name": "stdout",
     "output_type": "stream",
     "text": [
      "Uploading 334 records to s3://sagemaker-us-east-1-324183265896/sagemaker/DEMO-ClarifyModelMonitor-20200901/ground_truth_data/2025-06-10-07-11-55/2025/06/10/08/3126.jsonl\n"
     ]
    }
   ],
   "source": [
    "# Generate data for the last hour\n",
    "upload_ground_truth(datetime.utcnow() - timedelta(hours=1))"
   ]
  },
  {
   "cell_type": "code",
   "execution_count": 31,
   "id": "1c5838c3-9a22-4a7a-85e1-98fed90b3d2c",
   "metadata": {
    "execution": {
     "iopub.execute_input": "2025-06-10T09:31:34.444019Z",
     "iopub.status.busy": "2025-06-10T09:31:34.443319Z",
     "iopub.status.idle": "2025-06-10T09:31:34.464330Z",
     "shell.execute_reply": "2025-06-10T09:31:34.463176Z",
     "shell.execute_reply.started": "2025-06-10T09:31:34.443989Z"
    }
   },
   "outputs": [
    {
     "name": "stdout",
     "output_type": "stream",
     "text": [
      "Uploading 334 records to s3://sagemaker-us-east-1-324183265896/sagemaker/DEMO-ClarifyModelMonitor-20200901/ground_truth_data/2025-06-10-07-11-55/2025/06/10/09/3134.jsonl\n"
     ]
    },
    {
     "name": "stderr",
     "output_type": "stream",
     "text": [
      "/tmp/ipykernel_16553/2589954271.py:3: DeprecationWarning: datetime.datetime.utcnow() is deprecated and scheduled for removal in a future version. Use timezone-aware objects to represent datetimes in UTC: datetime.datetime.now(datetime.UTC).\n",
      "  upload_ground_truth(datetime.utcnow())\n"
     ]
    }
   ],
   "source": [
    "# Generate data once a hour\n",
    "def generate_fake_ground_truth(terminate_event):\n",
    "    upload_ground_truth(datetime.utcnow())\n",
    "    for _ in range(0, 60):\n",
    "        time.sleep(60)\n",
    "        if terminate_event.is_set():\n",
    "            break\n",
    "\n",
    "\n",
    "ground_truth_thread = WorkerThread(do_run=generate_fake_ground_truth)\n",
    "ground_truth_thread.start()"
   ]
  },
  {
   "cell_type": "markdown",
   "id": "cae1c0eb-39ba-4e8b-a6b5-8273b91ccca0",
   "metadata": {},
   "source": [
    "### Start Scheduled Model Bias Monitoring "
   ]
  },
  {
   "cell_type": "code",
   "execution_count": 32,
   "id": "af44ebad-4ba1-43ce-b2bd-05e39a315337",
   "metadata": {
    "execution": {
     "iopub.execute_input": "2025-06-10T09:35:29.069422Z",
     "iopub.status.busy": "2025-06-10T09:35:29.068737Z",
     "iopub.status.idle": "2025-06-10T09:35:29.075626Z",
     "shell.execute_reply": "2025-06-10T09:35:29.074640Z",
     "shell.execute_reply.started": "2025-06-10T09:35:29.069376Z"
    }
   },
   "outputs": [],
   "source": [
    "def wait_for_execution_to_start(model_monitor):\n",
    "    print(\n",
    "        \"A hourly schedule was created above and it will kick off executions ON the hour (plus 0 - 20 min buffer).\"\n",
    "    )\n",
    "\n",
    "    print(\"Waiting for the first execution to happen\", end=\"\")\n",
    "    schedule_desc = model_monitor.describe_schedule()\n",
    "    while \"LastMonitoringExecutionSummary\" not in schedule_desc:\n",
    "        schedule_desc = model_monitor.describe_schedule()\n",
    "        print(\".\", end=\"\", flush=True)\n",
    "        time.sleep(60)\n",
    "    print()\n",
    "    print(\"Done! Execution has been created\")\n",
    "\n",
    "    print(\"Now waiting for execution to start\", end=\"\")\n",
    "    while schedule_desc[\"LastMonitoringExecutionSummary\"][\"MonitoringExecutionStatus\"] in \"Pending\":\n",
    "        schedule_desc = model_monitor.describe_schedule()\n",
    "        print(\".\", end=\"\", flush=True)\n",
    "        time.sleep(10)\n",
    "\n",
    "    print()\n",
    "    print(\"Done! Execution has started\")"
   ]
  },
  {
   "cell_type": "code",
   "execution_count": 33,
   "id": "38cb2f3c-206b-4668-9746-bbdbebc9b911",
   "metadata": {
    "execution": {
     "iopub.execute_input": "2025-06-10T09:36:04.051373Z",
     "iopub.status.busy": "2025-06-10T09:36:04.051014Z",
     "iopub.status.idle": "2025-06-10T10:11:58.980275Z",
     "shell.execute_reply": "2025-06-10T10:11:58.979459Z",
     "shell.execute_reply.started": "2025-06-10T09:36:04.051349Z"
    }
   },
   "outputs": [
    {
     "name": "stdout",
     "output_type": "stream",
     "text": [
      "A hourly schedule was created above and it will kick off executions ON the hour (plus 0 - 20 min buffer).\n",
      "Waiting for the first execution to happen...............................\n",
      "Done! Execution has been created\n",
      "Now waiting for execution to start.............................\n",
      "Done! Execution has started\n"
     ]
    }
   ],
   "source": [
    "# start scheduled bias monitoring and wait until the 1st one executes\n",
    "wait_for_execution_to_start(model_bias_monitor)"
   ]
  },
  {
   "cell_type": "code",
   "execution_count": 35,
   "id": "c3644251-d26b-4442-a564-5735f6747a0f",
   "metadata": {
    "execution": {
     "iopub.execute_input": "2025-06-10T10:19:24.261281Z",
     "iopub.status.busy": "2025-06-10T10:19:24.260906Z",
     "iopub.status.idle": "2025-06-10T10:19:24.266717Z",
     "shell.execute_reply": "2025-06-10T10:19:24.265771Z",
     "shell.execute_reply.started": "2025-06-10T10:19:24.261248Z"
    }
   },
   "outputs": [],
   "source": [
    "# function: wait for the current monitoring to finish\n",
    "def wait_for_execution_to_finish(model_monitor):\n",
    "    schedule_desc = model_monitor.describe_schedule()\n",
    "    execution_summary = schedule_desc.get(\"LastMonitoringExecutionSummary\")\n",
    "    if execution_summary is not None:\n",
    "        print(\"Waiting for execution to finish\", end=\"\")\n",
    "        while execution_summary[\"MonitoringExecutionStatus\"] not in [\n",
    "            \"Completed\",\n",
    "            \"CompletedWithViolations\",\n",
    "            \"Failed\",\n",
    "            \"Stopped\",\n",
    "        ]:\n",
    "            print(\".\", end=\"\", flush=True)\n",
    "            time.sleep(60)\n",
    "            schedule_desc = model_monitor.describe_schedule()\n",
    "            execution_summary = schedule_desc[\"LastMonitoringExecutionSummary\"]\n",
    "        print()\n",
    "        print(\"Done! Execution has finished\")\n",
    "    else:\n",
    "        print(\"Last execution not found\")"
   ]
  },
  {
   "cell_type": "code",
   "execution_count": 36,
   "id": "58bc03c9-1ca3-47bc-8d48-2257db3076e0",
   "metadata": {
    "execution": {
     "iopub.execute_input": "2025-06-10T10:19:39.776235Z",
     "iopub.status.busy": "2025-06-10T10:19:39.775946Z",
     "iopub.status.idle": "2025-06-10T10:22:40.192718Z",
     "shell.execute_reply": "2025-06-10T10:22:40.191958Z",
     "shell.execute_reply.started": "2025-06-10T10:19:39.776213Z"
    }
   },
   "outputs": [
    {
     "name": "stdout",
     "output_type": "stream",
     "text": [
      "Waiting for execution to finish...\n",
      "Done! Execution has finished\n"
     ]
    }
   ],
   "source": [
    "# wait for the current monitoring to finish\n",
    "wait_for_execution_to_finish(model_bias_monitor)"
   ]
  },
  {
   "cell_type": "markdown",
   "id": "e34b4d33-e4c0-4769-8012-4f01be719947",
   "metadata": {},
   "source": [
    "### Inspect latest monitoring execution results"
   ]
  },
  {
   "cell_type": "code",
   "execution_count": 37,
   "id": "810c1268-bec7-4964-8e35-8b230f6c9014",
   "metadata": {
    "execution": {
     "iopub.execute_input": "2025-06-10T10:27:26.635340Z",
     "iopub.status.busy": "2025-06-10T10:27:26.634942Z",
     "iopub.status.idle": "2025-06-10T10:27:27.236189Z",
     "shell.execute_reply": "2025-06-10T10:27:27.235484Z",
     "shell.execute_reply.started": "2025-06-10T10:27:26.635306Z"
    }
   },
   "outputs": [
    {
     "name": "stdout",
     "output_type": "stream",
     "text": [
      "Report URI: s3://sagemaker-us-east-1-324183265896/sagemaker/DEMO-ClarifyModelMonitor-20200901/reports/DEMO-xgb-churn-model-monitor-2025-06-10-0734/monitoring-schedule-2025-06-10-09-24-36-905/2025/06/10/10\n",
      "Found Report Files:\n",
      "s3://sagemaker-us-east-1-324183265896/sagemaker/DEMO-ClarifyModelMonitor-20200901/reports/DEMO-xgb-churn-model-monitor-2025-06-10-0734/monitoring-schedule-2025-06-10-09-24-36-905/2025/06/10/10/analysis.json\n",
      " s3://sagemaker-us-east-1-324183265896/sagemaker/DEMO-ClarifyModelMonitor-20200901/reports/DEMO-xgb-churn-model-monitor-2025-06-10-0734/monitoring-schedule-2025-06-10-09-24-36-905/2025/06/10/10/constraint_violations.json\n",
      " s3://sagemaker-us-east-1-324183265896/sagemaker/DEMO-ClarifyModelMonitor-20200901/reports/DEMO-xgb-churn-model-monitor-2025-06-10-0734/monitoring-schedule-2025-06-10-09-24-36-905/2025/06/10/10/report.html\n",
      " s3://sagemaker-us-east-1-324183265896/sagemaker/DEMO-ClarifyModelMonitor-20200901/reports/DEMO-xgb-churn-model-monitor-2025-06-10-0734/monitoring-schedule-2025-06-10-09-24-36-905/2025/06/10/10/report.ipynb\n",
      " s3://sagemaker-us-east-1-324183265896/sagemaker/DEMO-ClarifyModelMonitor-20200901/reports/DEMO-xgb-churn-model-monitor-2025-06-10-0734/monitoring-schedule-2025-06-10-09-24-36-905/2025/06/10/10/report.pdf\n"
     ]
    },
    {
     "name": "stderr",
     "output_type": "stream",
     "text": [
      "/tmp/ipykernel_16553/2589954271.py:3: DeprecationWarning: datetime.datetime.utcnow() is deprecated and scheduled for removal in a future version. Use timezone-aware objects to represent datetimes in UTC: datetime.datetime.now(datetime.UTC).\n",
      "  upload_ground_truth(datetime.utcnow())\n"
     ]
    },
    {
     "name": "stdout",
     "output_type": "stream",
     "text": [
      "Uploading 334 records to s3://sagemaker-us-east-1-324183265896/sagemaker/DEMO-ClarifyModelMonitor-20200901/ground_truth_data/2025-06-10-07-11-55/2025/06/10/10/3134.jsonl\n"
     ]
    }
   ],
   "source": [
    "schedule_desc = model_bias_monitor.describe_schedule()\n",
    "execution_summary = schedule_desc.get(\"LastMonitoringExecutionSummary\")\n",
    "if execution_summary and execution_summary[\"MonitoringExecutionStatus\"] in [\n",
    "    \"Completed\",\n",
    "    \"CompletedWithViolations\",\n",
    "]:\n",
    "    last_model_bias_monitor_execution = model_bias_monitor.list_executions()[-1]\n",
    "    last_model_bias_monitor_execution_report_uri = (\n",
    "        last_model_bias_monitor_execution.output.destination\n",
    "    )\n",
    "    print(f\"Report URI: {last_model_bias_monitor_execution_report_uri}\")\n",
    "    last_model_bias_monitor_execution_report_files = sorted(\n",
    "        S3Downloader.list(last_model_bias_monitor_execution_report_uri)\n",
    "    )\n",
    "    print(\"Found Report Files:\")\n",
    "    print(\"\\n \".join(last_model_bias_monitor_execution_report_files))\n",
    "else:\n",
    "    last_model_bias_monitor_execution = None\n",
    "    print(\n",
    "        \"====STOP==== \\n No completed executions to inspect further. Please wait till an execution completes or investigate previously reported failures.\"\n",
    "    )"
   ]
  },
  {
   "cell_type": "code",
   "execution_count": 38,
   "id": "3c7b24bf-6586-4ad8-95ca-38f0a83dd63f",
   "metadata": {
    "execution": {
     "iopub.execute_input": "2025-06-10T10:41:09.231482Z",
     "iopub.status.busy": "2025-06-10T10:41:09.231053Z",
     "iopub.status.idle": "2025-06-10T10:41:09.372156Z",
     "shell.execute_reply": "2025-06-10T10:41:09.371354Z",
     "shell.execute_reply.started": "2025-06-10T10:41:09.231447Z"
    }
   },
   "outputs": [
    {
     "name": "stdout",
     "output_type": "stream",
     "text": [
      "{'version': '1.0', 'violations': [{'facet': 'Account Length', 'facet_value': '(100, 232]', 'metric_name': 'DAR', 'constraint_check_type': 'bias_drift_check', 'description': \"Metric value -0.1693989071038252 doesn't meet the baseline constraint requirement 0.0\"}, {'facet': 'Account Length', 'facet_value': '(100, 232]', 'metric_name': 'DCA', 'constraint_check_type': 'bias_drift_check', 'description': \"Metric value 3.448816029143897 doesn't meet the baseline constraint requirement -0.4137931034482758\"}, {'facet': 'Account Length', 'facet_value': '(100, 232]', 'metric_name': 'DI', 'constraint_check_type': 'bias_drift_check', 'description': \"Metric value 1.3335650830436463 doesn't meet the baseline constraint requirement 0.9762611275964392\"}, {'facet': 'Account Length', 'facet_value': '(100, 232]', 'metric_name': 'DPPL', 'constraint_check_type': 'bias_drift_check', 'description': \"Metric value -0.01768012807651835 doesn't meet the baseline constraint requirement 0.0020924841936269395\"}, {'facet': 'Account Length', 'facet_value': '(100, 232]', 'metric_name': 'GE', 'constraint_check_type': 'bias_drift_check', 'description': \"Metric value 1.1181474480151226 doesn't meet the baseline constraint requirement 0.04234527687296418\"}, {'facet': 'Account Length', 'facet_value': '(100, 232]', 'metric_name': 'SD', 'constraint_check_type': 'bias_drift_check', 'description': \"Metric value 0.02246107958678889 doesn't meet the baseline constraint requirement 0.0\"}, {'facet': 'Account Length', 'facet_value': '(100, 232]', 'metric_name': 'TE', 'constraint_check_type': 'bias_drift_check', 'description': \"Metric value 18.366666666666667 doesn't meet the baseline constraint requirement 0.0\"}]}\n"
     ]
    }
   ],
   "source": [
    "if last_model_bias_monitor_execution:\n",
    "    model_bias_violations = last_model_bias_monitor_execution.constraint_violations()\n",
    "    if model_bias_violations:\n",
    "        print(model_bias_violations.body_dict)"
   ]
  },
  {
   "cell_type": "markdown",
   "id": "4f005e73-1e7b-4b72-8a81-d309974bac61",
   "metadata": {},
   "source": [
    "### Resource Clean Up"
   ]
  },
  {
   "cell_type": "code",
   "execution_count": 40,
   "id": "a0d06b26-ac68-47c3-a2a1-156e53900b3b",
   "metadata": {
    "execution": {
     "iopub.execute_input": "2025-06-10T10:57:52.614995Z",
     "iopub.status.busy": "2025-06-10T10:57:52.614714Z",
     "iopub.status.idle": "2025-06-10T10:57:52.618443Z",
     "shell.execute_reply": "2025-06-10T10:57:52.617783Z",
     "shell.execute_reply.started": "2025-06-10T10:57:52.614976Z"
    }
   },
   "outputs": [],
   "source": [
    "# stop generating fake data\n",
    "invoke_endpoint_thread.terminate()\n",
    "ground_truth_thread.terminate()"
   ]
  },
  {
   "cell_type": "code",
   "execution_count": 42,
   "id": "49d75590-291d-4393-9a15-e29693c06097",
   "metadata": {
    "execution": {
     "iopub.execute_input": "2025-06-10T10:59:24.249925Z",
     "iopub.status.busy": "2025-06-10T10:59:24.249666Z",
     "iopub.status.idle": "2025-06-10T10:59:40.233959Z",
     "shell.execute_reply": "2025-06-10T10:59:40.233087Z",
     "shell.execute_reply.started": "2025-06-10T10:59:24.249904Z"
    }
   },
   "outputs": [
    {
     "name": "stderr",
     "output_type": "stream",
     "text": [
      "INFO:sagemaker.image_uris:Ignoring unnecessary instance type: None.\n",
      "INFO:sagemaker:Stopping Monitoring Schedule with name: monitoring-schedule-2025-06-10-09-24-36-905\n",
      "INFO:sagemaker:Deleting Monitoring Schedule with name: monitoring-schedule-2025-06-10-09-24-36-905\n"
     ]
    },
    {
     "name": "stdout",
     "output_type": "stream",
     "text": [
      "Waiting for execution to finish\n",
      "Done! Execution has finished\n"
     ]
    },
    {
     "name": "stderr",
     "output_type": "stream",
     "text": [
      "INFO:sagemaker.model_monitor.clarify_model_monitoring:Deleting Model Bias Job Definition with name: model-bias-job-definition-2025-06-10-09-24-36-905\n"
     ]
    }
   ],
   "source": [
    "# stop scheduled bias monitoring\n",
    "from sagemaker.predictor import Predictor\n",
    "\n",
    "predictor = Predictor(endpoint_name, sagemaker_session=sagemaker_session)\n",
    "model_monitors = predictor.list_monitors()\n",
    "for model_monitor in model_monitors:\n",
    "    model_monitor.stop_monitoring_schedule()\n",
    "    wait_for_execution_to_finish(model_monitor)\n",
    "    model_monitor.delete_monitoring_schedule()"
   ]
  },
  {
   "cell_type": "code",
   "execution_count": 44,
   "id": "01d9dca9-a647-4660-81db-07ea6e68c1b5",
   "metadata": {
    "collapsed": true,
    "execution": {
     "iopub.execute_input": "2025-06-10T11:00:28.826795Z",
     "iopub.status.busy": "2025-06-10T11:00:28.826526Z",
     "iopub.status.idle": "2025-06-10T11:00:29.328426Z",
     "shell.execute_reply": "2025-06-10T11:00:29.327090Z",
     "shell.execute_reply.started": "2025-06-10T11:00:28.826775Z"
    },
    "jupyter": {
     "outputs_hidden": true
    },
    "scrolled": true
   },
   "outputs": [
    {
     "name": "stderr",
     "output_type": "stream",
     "text": [
      "INFO:sagemaker:Deleting endpoint configuration with name: DEMO-xgb-churn-model-monitor-2025-06-10-0734\n"
     ]
    },
    {
     "ename": "ClientError",
     "evalue": "An error occurred (ValidationException) when calling the DeleteEndpointConfig operation: Could not find endpoint configuration \"DEMO-xgb-churn-model-monitor-2025-06-10-0734\".",
     "output_type": "error",
     "traceback": [
      "\u001b[0;31m---------------------------------------------------------------------------\u001b[0m",
      "\u001b[0;31mClientError\u001b[0m                               Traceback (most recent call last)",
      "Cell \u001b[0;32mIn[44], line 2\u001b[0m\n\u001b[1;32m      1\u001b[0m \u001b[38;5;66;03m# delete endpoint\u001b[39;00m\n\u001b[0;32m----> 2\u001b[0m \u001b[43mpredictor\u001b[49m\u001b[38;5;241;43m.\u001b[39;49m\u001b[43mdelete_endpoint\u001b[49m\u001b[43m(\u001b[49m\u001b[43m)\u001b[49m\n",
      "File \u001b[0;32m/opt/conda/lib/python3.12/site-packages/sagemaker/base_predictor.py:527\u001b[0m, in \u001b[0;36mPredictor.delete_endpoint\u001b[0;34m(self, delete_endpoint_config)\u001b[0m\n\u001b[1;32m    515\u001b[0m \u001b[38;5;250m\u001b[39m\u001b[38;5;124;03m\"\"\"Delete the Amazon SageMaker endpoint backing this predictor.\u001b[39;00m\n\u001b[1;32m    516\u001b[0m \n\u001b[1;32m    517\u001b[0m \u001b[38;5;124;03mThis also delete the endpoint configuration attached to it if\u001b[39;00m\n\u001b[0;32m   (...)\u001b[0m\n\u001b[1;32m    524\u001b[0m \u001b[38;5;124;03m        be deleted. If False, only endpoint will be deleted.\u001b[39;00m\n\u001b[1;32m    525\u001b[0m \u001b[38;5;124;03m\"\"\"\u001b[39;00m\n\u001b[1;32m    526\u001b[0m \u001b[38;5;28;01mif\u001b[39;00m delete_endpoint_config:\n\u001b[0;32m--> 527\u001b[0m     \u001b[38;5;28;43mself\u001b[39;49m\u001b[38;5;241;43m.\u001b[39;49m\u001b[43m_delete_endpoint_config\u001b[49m\u001b[43m(\u001b[49m\u001b[43m)\u001b[49m\n\u001b[1;32m    529\u001b[0m \u001b[38;5;28mself\u001b[39m\u001b[38;5;241m.\u001b[39msagemaker_session\u001b[38;5;241m.\u001b[39mdelete_endpoint(\u001b[38;5;28mself\u001b[39m\u001b[38;5;241m.\u001b[39mendpoint_name)\n",
      "File \u001b[0;32m/opt/conda/lib/python3.12/site-packages/sagemaker/base_predictor.py:512\u001b[0m, in \u001b[0;36mPredictor._delete_endpoint_config\u001b[0;34m(self)\u001b[0m\n\u001b[1;32m    510\u001b[0m \u001b[38;5;250m\u001b[39m\u001b[38;5;124;03m\"\"\"Delete the Amazon SageMaker endpoint configuration\"\"\"\u001b[39;00m\n\u001b[1;32m    511\u001b[0m current_endpoint_config_name \u001b[38;5;241m=\u001b[39m \u001b[38;5;28mself\u001b[39m\u001b[38;5;241m.\u001b[39m_get_endpoint_config_name()\n\u001b[0;32m--> 512\u001b[0m \u001b[38;5;28;43mself\u001b[39;49m\u001b[38;5;241;43m.\u001b[39;49m\u001b[43msagemaker_session\u001b[49m\u001b[38;5;241;43m.\u001b[39;49m\u001b[43mdelete_endpoint_config\u001b[49m\u001b[43m(\u001b[49m\u001b[43mcurrent_endpoint_config_name\u001b[49m\u001b[43m)\u001b[49m\n",
      "File \u001b[0;32m/opt/conda/lib/python3.12/site-packages/sagemaker/session.py:5007\u001b[0m, in \u001b[0;36mSession.delete_endpoint_config\u001b[0;34m(self, endpoint_config_name)\u001b[0m\n\u001b[1;32m   5000\u001b[0m \u001b[38;5;250m\u001b[39m\u001b[38;5;124;03m\"\"\"Delete an Amazon SageMaker endpoint configuration.\u001b[39;00m\n\u001b[1;32m   5001\u001b[0m \n\u001b[1;32m   5002\u001b[0m \u001b[38;5;124;03mArgs:\u001b[39;00m\n\u001b[1;32m   5003\u001b[0m \u001b[38;5;124;03m    endpoint_config_name (str): Name of the Amazon SageMaker endpoint configuration to\u001b[39;00m\n\u001b[1;32m   5004\u001b[0m \u001b[38;5;124;03m        delete.\u001b[39;00m\n\u001b[1;32m   5005\u001b[0m \u001b[38;5;124;03m\"\"\"\u001b[39;00m\n\u001b[1;32m   5006\u001b[0m logger\u001b[38;5;241m.\u001b[39minfo(\u001b[38;5;124m\"\u001b[39m\u001b[38;5;124mDeleting endpoint configuration with name: \u001b[39m\u001b[38;5;132;01m%s\u001b[39;00m\u001b[38;5;124m\"\u001b[39m, endpoint_config_name)\n\u001b[0;32m-> 5007\u001b[0m \u001b[38;5;28;43mself\u001b[39;49m\u001b[38;5;241;43m.\u001b[39;49m\u001b[43msagemaker_client\u001b[49m\u001b[38;5;241;43m.\u001b[39;49m\u001b[43mdelete_endpoint_config\u001b[49m\u001b[43m(\u001b[49m\u001b[43mEndpointConfigName\u001b[49m\u001b[38;5;241;43m=\u001b[39;49m\u001b[43mendpoint_config_name\u001b[49m\u001b[43m)\u001b[49m\n",
      "File \u001b[0;32m/opt/conda/lib/python3.12/site-packages/botocore/client.py:569\u001b[0m, in \u001b[0;36mClientCreator._create_api_method.<locals>._api_call\u001b[0;34m(self, *args, **kwargs)\u001b[0m\n\u001b[1;32m    565\u001b[0m     \u001b[38;5;28;01mraise\u001b[39;00m \u001b[38;5;167;01mTypeError\u001b[39;00m(\n\u001b[1;32m    566\u001b[0m         \u001b[38;5;124mf\u001b[39m\u001b[38;5;124m\"\u001b[39m\u001b[38;5;132;01m{\u001b[39;00mpy_operation_name\u001b[38;5;132;01m}\u001b[39;00m\u001b[38;5;124m() only accepts keyword arguments.\u001b[39m\u001b[38;5;124m\"\u001b[39m\n\u001b[1;32m    567\u001b[0m     )\n\u001b[1;32m    568\u001b[0m \u001b[38;5;66;03m# The \"self\" in this scope is referring to the BaseClient.\u001b[39;00m\n\u001b[0;32m--> 569\u001b[0m \u001b[38;5;28;01mreturn\u001b[39;00m \u001b[38;5;28;43mself\u001b[39;49m\u001b[38;5;241;43m.\u001b[39;49m\u001b[43m_make_api_call\u001b[49m\u001b[43m(\u001b[49m\u001b[43moperation_name\u001b[49m\u001b[43m,\u001b[49m\u001b[43m \u001b[49m\u001b[43mkwargs\u001b[49m\u001b[43m)\u001b[49m\n",
      "File \u001b[0;32m/opt/conda/lib/python3.12/site-packages/botocore/client.py:1023\u001b[0m, in \u001b[0;36mBaseClient._make_api_call\u001b[0;34m(self, operation_name, api_params)\u001b[0m\n\u001b[1;32m   1019\u001b[0m     error_code \u001b[38;5;241m=\u001b[39m error_info\u001b[38;5;241m.\u001b[39mget(\u001b[38;5;124m\"\u001b[39m\u001b[38;5;124mQueryErrorCode\u001b[39m\u001b[38;5;124m\"\u001b[39m) \u001b[38;5;129;01mor\u001b[39;00m error_info\u001b[38;5;241m.\u001b[39mget(\n\u001b[1;32m   1020\u001b[0m         \u001b[38;5;124m\"\u001b[39m\u001b[38;5;124mCode\u001b[39m\u001b[38;5;124m\"\u001b[39m\n\u001b[1;32m   1021\u001b[0m     )\n\u001b[1;32m   1022\u001b[0m     error_class \u001b[38;5;241m=\u001b[39m \u001b[38;5;28mself\u001b[39m\u001b[38;5;241m.\u001b[39mexceptions\u001b[38;5;241m.\u001b[39mfrom_code(error_code)\n\u001b[0;32m-> 1023\u001b[0m     \u001b[38;5;28;01mraise\u001b[39;00m error_class(parsed_response, operation_name)\n\u001b[1;32m   1024\u001b[0m \u001b[38;5;28;01melse\u001b[39;00m:\n\u001b[1;32m   1025\u001b[0m     \u001b[38;5;28;01mreturn\u001b[39;00m parsed_response\n",
      "\u001b[0;31mClientError\u001b[0m: An error occurred (ValidationException) when calling the DeleteEndpointConfig operation: Could not find endpoint configuration \"DEMO-xgb-churn-model-monitor-2025-06-10-0734\"."
     ]
    }
   ],
   "source": [
    "# delete endpoint\n",
    "predictor.delete_endpoint()"
   ]
  },
  {
   "cell_type": "code",
   "execution_count": null,
   "id": "97672847-7ce2-425b-b9be-0fa66cef54d6",
   "metadata": {},
   "outputs": [],
   "source": []
  }
 ],
 "metadata": {
  "kernelspec": {
   "display_name": "Python 3 (ipykernel)",
   "language": "python",
   "name": "python3"
  },
  "language_info": {
   "codemirror_mode": {
    "name": "ipython",
    "version": 3
   },
   "file_extension": ".py",
   "mimetype": "text/x-python",
   "name": "python",
   "nbconvert_exporter": "python",
   "pygments_lexer": "ipython3",
   "version": "3.12.9"
  }
 },
 "nbformat": 4,
 "nbformat_minor": 5
}
